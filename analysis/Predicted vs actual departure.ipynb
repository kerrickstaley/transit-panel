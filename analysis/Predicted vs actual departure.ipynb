{
 "cells": [
  {
   "cell_type": "code",
   "execution_count": null,
   "metadata": {},
   "outputs": [],
   "source": [
    "import pandas as pd\n",
    "import seaborn as sns\n",
    "from matplotlib import pyplot as plt\n",
    "import glob"
   ]
  },
  {
   "cell_type": "code",
   "execution_count": null,
   "metadata": {},
   "outputs": [],
   "source": [
    "def load_df(csv_file_glob):\n",
    "    assert len(glob.glob(csv_file_glob)) == 1\n",
    "    df = pd.read_csv(glob.glob(csv_file_glob)[0])\n",
    "    date_fields = ['fetch_time', 'projected_arrival', 'last_updated', 'door_close', 'scheduled_departure']\n",
    "    for field in date_fields:\n",
    "        df[field] = pd.to_datetime(df[field], format='ISO8601')\n",
    "    df['predicted_lateness_min'] = (df.projected_arrival - df.scheduled_departure).dt.total_seconds() / 60\n",
    "    df['actual_lateness_min'] = (df.door_close - df.scheduled_departure).dt.total_seconds() / 60\n",
    "    return df"
   ]
  },
  {
   "cell_type": "code",
   "execution_count": null,
   "metadata": {},
   "outputs": [],
   "source": [
    "def make_graph(df_or_glob, lateness=True):\n",
    "    if isinstance(df_or_glob, str):\n",
    "        df = load_df(df_or_glob)\n",
    "    else:\n",
    "        df = df_or_glob\n",
    "\n",
    "    # all values are the same\n",
    "    door_close = df.door_close[0]\n",
    "    scheduled_departure = df.scheduled_departure[0]\n",
    "\n",
    "    plt.figure(figsize=(10, 6))\n",
    "    df_official = df[df.api == 'OFFICIAL']\n",
    "    df_mrazza = df[df.api == 'MRAZZA']\n",
    "    \n",
    "    # leave time\n",
    "    walk_time_min = 10\n",
    "    ys = [-1, df.iloc[-1].actual_lateness_min + 1]\n",
    "    ts = [pd.Timedelta(seconds=(y - walk_time_min) * 60) + scheduled_departure for y in ys]\n",
    "\n",
    "    plots = [\n",
    "        {\n",
    "            'x': df_official['fetch_time'],\n",
    "            'y': 0,\n",
    "            'color': 'yellow',\n",
    "            'label': 'schedule',\n",
    "        },\n",
    "        {\n",
    "            'x': df_official['fetch_time'],\n",
    "            'y': df_official['predicted_lateness_min'],\n",
    "            'color': 'blue',\n",
    "            'label': '\"official\" API',\n",
    "        },\n",
    "        {\n",
    "            'x': df_mrazza['fetch_time'],\n",
    "            'y': df_mrazza['predicted_lateness_min'],\n",
    "            'color': 'green',\n",
    "            'label': 'mrazza API',\n",
    "        },\n",
    "        {\n",
    "            'x': df_official['fetch_time'],\n",
    "            'y': df_official['actual_lateness_min'],\n",
    "            'color': 'orange',\n",
    "            'label': 'actual',\n",
    "        },\n",
    "        {\n",
    "            'x': pd.Series(ts),\n",
    "            'y': pd.Series(ys),\n",
    "            'color': 'purple',\n",
    "        },\n",
    "    ]\n",
    "    \n",
    "    for plot in plots:\n",
    "        if not lateness:\n",
    "            plot['y'] += (scheduled_departure - plot['x']).dt.total_seconds() / 60\n",
    "\n",
    "        sns.lineplot(**plot)\n",
    "\n",
    "    # actual departure (door close) time\n",
    "    plt.axvline(door_close, color='red', linestyle='--')\n",
    "\n",
    "    plt.legend(loc='lower left')"
   ]
  },
  {
   "cell_type": "code",
   "execution_count": null,
   "metadata": {},
   "outputs": [],
   "source": [
    "make_graph('data/*2022-11-20*')"
   ]
  },
  {
   "cell_type": "code",
   "execution_count": null,
   "metadata": {},
   "outputs": [],
   "source": [
    "make_graph('data/*2023-04-02*')"
   ]
  },
  {
   "cell_type": "code",
   "execution_count": null,
   "metadata": {},
   "outputs": [],
   "source": [
    "make_graph('data/*2023-04-09*')"
   ]
  },
  {
   "cell_type": "code",
   "execution_count": null,
   "metadata": {},
   "outputs": [],
   "source": [
    "make_graph('data/*2023-04-30_1*')"
   ]
  },
  {
   "cell_type": "code",
   "execution_count": null,
   "metadata": {},
   "outputs": [],
   "source": [
    "make_graph('data/*2023-04-30_2*')"
   ]
  }
 ],
 "metadata": {
  "kernelspec": {
   "display_name": "Python 3 (ipykernel)",
   "language": "python",
   "name": "python3"
  },
  "language_info": {
   "codemirror_mode": {
    "name": "ipython",
    "version": 3
   },
   "file_extension": ".py",
   "mimetype": "text/x-python",
   "name": "python",
   "nbconvert_exporter": "python",
   "pygments_lexer": "ipython3",
   "version": "3.11.3"
  }
 },
 "nbformat": 4,
 "nbformat_minor": 4
}
